{
 "cells": [
  {
   "cell_type": "code",
   "execution_count": 1,
   "metadata": {},
   "outputs": [
    {
     "name": "stdout",
     "output_type": "stream",
     "text": [
      "SVM Best Model Accuracy: 0.8638743455497382\n",
      "Random Forest Best Model Accuracy: 0.8691099476439791\n",
      "XGBoost Best Model Accuracy: 0.8429319371727748\n"
     ]
    }
   ],
   "source": [
    "import pandas as pd\n",
    "import numpy as np\n",
    "from sklearn.model_selection import train_test_split, GridSearchCV\n",
    "from sklearn.preprocessing import StandardScaler\n",
    "from sklearn.ensemble import RandomForestClassifier\n",
    "from sklearn.svm import SVC\n",
    "from xgboost import XGBClassifier\n",
    "from sklearn.metrics import accuracy_score, classification_report\n",
    "from imblearn.combine import SMOTETomek  # To handle class imbalance\n",
    "\n",
    "# Load the diabetes dataset\n",
    "diabetes_dataset = pd.read_csv('../datasets/diabetes.csv')\n",
    "\n",
    "# Splitting features and target\n",
    "X = diabetes_dataset.drop(columns=['Outcome'])  # Features\n",
    "Y = diabetes_dataset['Outcome']  # Target variable (0 or 1)\n",
    "\n",
    "# 1. Handle Imbalanced Data using SMOTETomek\n",
    "smote_tomek = SMOTETomek(random_state=42)\n",
    "X_resampled, Y_resampled = smote_tomek.fit_resample(X, Y)\n",
    "\n",
    "# 2. Feature Scaling\n",
    "scaler = StandardScaler()\n",
    "X_scaled = scaler.fit_transform(X_resampled)\n",
    "\n",
    "# 3. Train-Test Split\n",
    "X_train, X_test, Y_train, Y_test = train_test_split(X_scaled, Y_resampled, test_size=0.2, random_state=42)\n",
    "\n",
    "# 4. Hyperparameter Tuning for Different Models\n",
    "\n",
    "# 4.1 SVM with GridSearchCV\n",
    "svm_model = SVC()\n",
    "svm_param_grid = {'C': [0.1, 1, 10], 'kernel': ['linear', 'rbf'], 'gamma': ['scale', 'auto']}\n",
    "svm_grid_search = GridSearchCV(svm_model, svm_param_grid, cv=5, scoring='accuracy')\n",
    "svm_grid_search.fit(X_train, Y_train)\n",
    "svm_best_model = svm_grid_search.best_estimator_\n",
    "svm_y_pred = svm_best_model.predict(X_test)\n",
    "\n",
    "# 4.2 Random Forest with GridSearchCV\n",
    "rf_model = RandomForestClassifier(random_state=42)\n",
    "rf_param_grid = {'n_estimators': [100, 200], 'max_depth': [10, 20, None], 'class_weight': ['balanced', None]}\n",
    "rf_grid_search = GridSearchCV(rf_model, rf_param_grid, cv=5, scoring='accuracy')\n",
    "rf_grid_search.fit(X_train, Y_train)\n",
    "rf_best_model = rf_grid_search.best_estimator_\n",
    "rf_y_pred = rf_best_model.predict(X_test)\n",
    "\n",
    "# 4.3 XGBoost with GridSearchCV\n",
    "xgb_model = XGBClassifier(random_state=42)\n",
    "xgb_param_grid = {'n_estimators': [100, 200], 'learning_rate': [0.01, 0.1], 'max_depth': [3, 5, 7]}\n",
    "xgb_grid_search = GridSearchCV(xgb_model, xgb_param_grid, cv=5, scoring='accuracy')\n",
    "xgb_grid_search.fit(X_train, Y_train)\n",
    "xgb_best_model = xgb_grid_search.best_estimator_\n",
    "xgb_y_pred = xgb_best_model.predict(X_test)\n",
    "\n",
    "# 5. Evaluate Models\n",
    "print(\"SVM Best Model Accuracy:\", accuracy_score(Y_test, svm_y_pred))\n",
    "print(\"Random Forest Best Model Accuracy:\", accuracy_score(Y_test, rf_y_pred))\n",
    "print(\"XGBoost Best Model Accuracy:\", accuracy_score(Y_test, xgb_y_pred))\n"
   ]
  },
  {
   "cell_type": "code",
   "execution_count": 2,
   "metadata": {},
   "outputs": [],
   "source": [
    "import pickle"
   ]
  },
  {
   "cell_type": "code",
   "execution_count": 3,
   "metadata": {},
   "outputs": [],
   "source": [
    "filename='diabetes_model2.sav'\n",
    "pickle.dump(rf_best_model,open(filename,'wb'))"
   ]
  }
 ],
 "metadata": {
  "kernelspec": {
   "display_name": "Python 3",
   "language": "python",
   "name": "python3"
  },
  "language_info": {
   "codemirror_mode": {
    "name": "ipython",
    "version": 3
   },
   "file_extension": ".py",
   "mimetype": "text/x-python",
   "name": "python",
   "nbconvert_exporter": "python",
   "pygments_lexer": "ipython3",
   "version": "3.12.2"
  }
 },
 "nbformat": 4,
 "nbformat_minor": 2
}
